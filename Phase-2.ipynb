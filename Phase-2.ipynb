{
 "cells": [
  {
   "cell_type": "markdown",
   "id": "d014f63f",
   "metadata": {},
   "source": [
    "## NumPy Operations"
   ]
  },
  {
   "cell_type": "code",
   "execution_count": 1,
   "id": "1db473f2",
   "metadata": {},
   "outputs": [],
   "source": [
    "import numpy as np"
   ]
  },
  {
   "cell_type": "code",
   "execution_count": 3,
   "id": "47569164",
   "metadata": {},
   "outputs": [
    {
     "name": "stdout",
     "output_type": "stream",
     "text": [
      "Basic Slicing [3 4 5 6 7]\n",
      "With step [2 4 6 8]\n",
      "Negative indexing 8\n"
     ]
    }
   ],
   "source": [
    "arr = np.array([1, 2, 3, 4, 5, 6, 7, 8, 9, 10])\n",
    "print(f\"Basic Slicing {arr[2 : 7]}\")\n",
    "print(f\"With step {arr[1 : 8 : 2]}\")\n",
    "print(f\"Negative indexing {arr[-3]}\")\n"
   ]
  },
  {
   "cell_type": "code",
   "execution_count": 7,
   "id": "10b38a39",
   "metadata": {},
   "outputs": [
    {
     "name": "stdout",
     "output_type": "stream",
     "text": [
      "Specific element 6\n",
      "Entire Row : [4 5 6]\n",
      "Entire Column : [2 5 8]\n"
     ]
    }
   ],
   "source": [
    "arr_2d = np.array([[1, 2, 3],\n",
    "                   [4, 5, 6],\n",
    "                   [7, 8, 9]])\n",
    "print(f\"Specific element {arr_2d[1, 2]}\")\n",
    "print(f\"Entire Row : {arr_2d[1]}\")\n",
    "print(f\"Entire Column : {arr_2d[:, 1]}\")"
   ]
  },
  {
   "cell_type": "markdown",
   "id": "bba977e5",
   "metadata": {},
   "source": [
    "## Sorting Array"
   ]
  },
  {
   "cell_type": "code",
   "execution_count": 14,
   "id": "2c0cc9d1",
   "metadata": {},
   "outputs": [
    {
     "name": "stdout",
     "output_type": "stream",
     "text": [
      "Sorted Array : [0 1 2 3 5 6 8 8 9 9]\n",
      "Sorted array:\n",
      " [[ 1  5  3]\n",
      " [ 9  6  3]\n",
      " [10  9  4]] \n"
     ]
    }
   ],
   "source": [
    "unsorted = np.array([2, 5, 6, 3, 8, 9, 0, 1, 9, 8])\n",
    "print(f\"Sorted Array : {np.sort(unsorted)}\")\n",
    "\n",
    "unsorted_2d = np.array([[1, 6, 3],\n",
    "                        [9, 5, 3],\n",
    "                        [10, 9, 4]])\n",
    "\n",
    "print(f\"Sorted array:\\n {np.sort(unsorted_2d, axis=0)} \")"
   ]
  },
  {
   "cell_type": "markdown",
   "id": "f85f1c01",
   "metadata": {},
   "source": [
    "## Filter"
   ]
  },
  {
   "cell_type": "code",
   "execution_count": 16,
   "id": "e5861d7d",
   "metadata": {},
   "outputs": [
    {
     "name": "stdout",
     "output_type": "stream",
     "text": [
      "Even Array :\n",
      " [ 2  4  6  8 10]\n"
     ]
    }
   ],
   "source": [
    "numbers = np.array([1, 2, 3, 4, 5, 6, 7, 8, 9, 10])\n",
    "even_number = numbers[numbers % 2 == 0]\n",
    "print(f\"Even Array :\\n {even_number}\")"
   ]
  },
  {
   "cell_type": "markdown",
   "id": "4bae5a79",
   "metadata": {},
   "source": [
    "## Filter with Mask"
   ]
  },
  {
   "cell_type": "code",
   "execution_count": 17,
   "id": "5c875433",
   "metadata": {},
   "outputs": [
    {
     "name": "stdout",
     "output_type": "stream",
     "text": [
      "Numbers greater than 5:\n",
      " [ 6  7  8  9 10]\n"
     ]
    }
   ],
   "source": [
    "mask = numbers > 5\n",
    "print(f\"Numbers greater than 5:\\n {numbers[mask]}\")\n"
   ]
  },
  {
   "cell_type": "markdown",
   "id": "aa05d7b2",
   "metadata": {},
   "source": [
    "## Fancy indexes and NumPy Where()"
   ]
  },
  {
   "cell_type": "code",
   "execution_count": 21,
   "id": "7a01f9c3",
   "metadata": {},
   "outputs": [
    {
     "name": "stdout",
     "output_type": "stream",
     "text": [
      "Numbers :\n",
      " [1 2 5]\n",
      "Numbers greater than 5:\n",
      " [ 6  7  8  9 10]\n"
     ]
    }
   ],
   "source": [
    "indices = [0, 1, 4]\n",
    "print(f\"Numbers :\\n {numbers[indices]}\")\n",
    "\n",
    "where_NP = np.where(numbers > 5)\n",
    "print(f\"Numbers greater than 5:\\n {numbers[where_NP]}\")\n"
   ]
  },
  {
   "cell_type": "code",
   "execution_count": 23,
   "id": "7af52feb",
   "metadata": {},
   "outputs": [
    {
     "name": "stdout",
     "output_type": "stream",
     "text": [
      "[ 1  2  3  4  5 12 14 16 18 20]\n"
     ]
    }
   ],
   "source": [
    "array_condition = np.where(numbers > 5, numbers*2, numbers)\n",
    "print(array_condition)"
   ]
  },
  {
   "cell_type": "markdown",
   "id": "0e0cb4a1",
   "metadata": {},
   "source": [
    "## Combining Two Arrays"
   ]
  },
  {
   "cell_type": "code",
   "execution_count": 24,
   "id": "2b13e9df",
   "metadata": {},
   "outputs": [
    {
     "name": "stdout",
     "output_type": "stream",
     "text": [
      "[1 2 3 4 5 6]\n"
     ]
    }
   ],
   "source": [
    "arr1 = np.array([1, 2, 3])\n",
    "arr2 = np.array([4, 5, 6])\n",
    "\n",
    "combined = np.concatenate((arr1, arr2))\n",
    "print(combined)\n"
   ]
  },
  {
   "cell_type": "markdown",
   "id": "eb5b7f98",
   "metadata": {},
   "source": [
    "## Shape Compatibility"
   ]
  },
  {
   "cell_type": "code",
   "execution_count": 26,
   "id": "05b05ba3",
   "metadata": {},
   "outputs": [
    {
     "name": "stdout",
     "output_type": "stream",
     "text": [
      "Shape Compatibility True\n",
      "Shape Compatibility False\n"
     ]
    }
   ],
   "source": [
    "a = np.array([1, 2, 3])\n",
    "b = np.array([4, 5, 6])\n",
    "c = np.array([7, 8, 9, 4])\n",
    "\n",
    "print(f\"Shape Compatibility {a.shape == b.shape}\")\n",
    "print(f\"Shape Compatibility {a.shape == c.shape}\")\n",
    "\n"
   ]
  },
  {
   "cell_type": "code",
   "execution_count": 28,
   "id": "43036df5",
   "metadata": {},
   "outputs": [
    {
     "name": "stdout",
     "output_type": "stream",
     "text": [
      "[[1 2 3]\n",
      " [4 5 6]\n",
      " [7 8 9]]\n",
      "[[ 1  2  3 10]\n",
      " [ 4  5  6 11]]\n"
     ]
    }
   ],
   "source": [
    "# Add New Row\n",
    "orignal = np.array([[1, 2, 3], [4, 5, 6]])\n",
    "new_row = np.array([7, 8, 9])\n",
    "\n",
    "with_new_row = np.vstack((orignal, new_row))\n",
    "print(with_new_row)\n",
    "\n",
    "# Add New Column\n",
    "new_col = np.array([[10], [11]])\n",
    "with_new_col = np.hstack((orignal, new_col))\n",
    "print(with_new_col)\n"
   ]
  },
  {
   "cell_type": "code",
   "execution_count": 30,
   "id": "dd07dea8",
   "metadata": {},
   "outputs": [
    {
     "name": "stdout",
     "output_type": "stream",
     "text": [
      "Array after deletion:\n",
      " [1 2 4 5]\n"
     ]
    }
   ],
   "source": [
    "arr = np.array([1, 2, 3, 4, 5])\n",
    "deleted = np.delete(arr, 2)\n",
    "print(f\"Array after deletion:\\n {deleted}\")\n"
   ]
  }
 ],
 "metadata": {
  "kernelspec": {
   "display_name": ".venv",
   "language": "python",
   "name": "python3"
  },
  "language_info": {
   "codemirror_mode": {
    "name": "ipython",
    "version": 3
   },
   "file_extension": ".py",
   "mimetype": "text/x-python",
   "name": "python",
   "nbconvert_exporter": "python",
   "pygments_lexer": "ipython3",
   "version": "3.13.7"
  }
 },
 "nbformat": 4,
 "nbformat_minor": 5
}
