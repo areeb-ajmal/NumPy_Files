{
 "cells": [
  {
   "cell_type": "code",
   "execution_count": 2,
   "id": "b6cb8a3d",
   "metadata": {},
   "outputs": [],
   "source": [
    "import numpy as np\n",
    "import time\n",
    "\n"
   ]
  },
  {
   "cell_type": "markdown",
   "id": "81b952d2",
   "metadata": {},
   "source": [
    "## creating array from list"
   ]
  },
  {
   "cell_type": "code",
   "execution_count": 3,
   "id": "c39ba820",
   "metadata": {},
   "outputs": [
    {
     "name": "stdout",
     "output_type": "stream",
     "text": [
      "1D Array : [1 2 3]\n",
      "2D Array : [[1 2 3]\n",
      " [4 5 6]]\n"
     ]
    }
   ],
   "source": [
    "arr_1D = np.array([1, 2, 3])\n",
    "print(f\"1D Array : {arr_1D}\")\n",
    "\n",
    "arr_2D = np.array([[1, 2, 3], [4, 5, 6]])\n",
    "print(f\"2D Array : {arr_2D}\")"
   ]
  },
  {
   "cell_type": "markdown",
   "id": "375a96a3",
   "metadata": {},
   "source": [
    "### List VS Array"
   ]
  },
  {
   "cell_type": "code",
   "execution_count": 4,
   "id": "3866d90f",
   "metadata": {},
   "outputs": [
    {
     "name": "stdout",
     "output_type": "stream",
     "text": [
      "List Multipilication : [1, 2, 3, 1, 2, 3]\n",
      "Array Multiplication : [2 4 6]\n",
      "'List' multiplication Operation Time : 0.18703603744506836\n",
      "'Array' multiplication Operation Time : 0.0025742053985595703\n"
     ]
    }
   ],
   "source": [
    "py_list = [1, 2, 3]\n",
    "print(f\"List Multipilication : {py_list * 2}\")\n",
    "\n",
    "np_array = np.array([1, 2, 3])\n",
    "print(f\"Array Multiplication : {np_array * 2}\")\n",
    "\n",
    "\n",
    "start = time.time()\n",
    "py_list = [i*2 for i in range(1000000)]\n",
    "print(f\"'List' multiplication Operation Time : {time.time() - start}\")\n",
    "\n",
    "start = time.time()\n",
    "np_array = np.arange(1000000)\n",
    "print(f\"'Array' multiplication Operation Time : {time.time() - start}\")"
   ]
  },
  {
   "cell_type": "markdown",
   "id": "4bdbcc79",
   "metadata": {},
   "source": [
    "### creating array from scratch"
   ]
  },
  {
   "cell_type": "code",
   "execution_count": 5,
   "id": "cd07c548",
   "metadata": {},
   "outputs": [
    {
     "name": "stdout",
     "output_type": "stream",
     "text": [
      "Zero array : \n",
      " [[0. 0. 0. 0.]\n",
      " [0. 0. 0. 0.]\n",
      " [0. 0. 0. 0.]]\n",
      "Ones array : \n",
      " [[1. 1. 1.]\n",
      " [1. 1. 1.]]\n",
      "Full array : \n",
      " [[7 7]\n",
      " [7 7]]\n",
      "Random array : \n",
      " [[0.15313773 0.56711041 0.56031719]\n",
      " [0.28544757 0.40867692 0.09327991]]\n",
      "Sequence array : \n",
      " [0 2 4 6 8]\n"
     ]
    }
   ],
   "source": [
    "zero = np.zeros((3, 4))\n",
    "print(f\"Zero array : \\n {zero}\")\n",
    "\n",
    "one = np.ones((2, 3))\n",
    "print(f\"Ones array : \\n {one}\")\n",
    "\n",
    "\n",
    "full = np.full((2, 2), 7)\n",
    "print(f\"Full array : \\n {full}\")\n",
    "\n",
    "random = np.random.random((2, 3))\n",
    "print(f\"Random array : \\n {random}\")\n",
    "\n",
    "sequence = np.arange(0, 10, 2)\n",
    "print(f\"Sequence array : \\n {sequence}\")"
   ]
  },
  {
   "cell_type": "markdown",
   "id": "7651ef09",
   "metadata": {},
   "source": [
    "### Vector, Matrix and Tensor"
   ]
  },
  {
   "cell_type": "code",
   "execution_count": 6,
   "id": "a5231cc8",
   "metadata": {},
   "outputs": [
    {
     "name": "stdout",
     "output_type": "stream",
     "text": [
      "Vetor : [1 2 3]\n",
      "Matrix : [[1 2 3]\n",
      " [4 5 6]]\n",
      "Tensor : [[[1 2]\n",
      "  [3 4]]\n",
      "\n",
      " [[5 6]\n",
      "  [7 8]]]\n"
     ]
    }
   ],
   "source": [
    "vector = np.array([1, 2, 3])\n",
    "print(f\"Vetor : {vector}\")\n",
    "\n",
    "matrix = np.array([[1, 2, 3],\n",
    "                   [4, 5, 6]])\n",
    "print(f\"Matrix : {matrix}\")\n",
    "\n",
    "tensor = np.array([[[1, 2], [3, 4]],\n",
    "                    [[5, 6], [7, 8]]])\n",
    "print(f\"Tensor : {tensor}\")"
   ]
  },
  {
   "cell_type": "markdown",
   "id": "48a842f6",
   "metadata": {},
   "source": [
    "### Array Properties"
   ]
  },
  {
   "cell_type": "code",
   "execution_count": null,
   "id": "647c398b",
   "metadata": {},
   "outputs": [
    {
     "name": "stdout",
     "output_type": "stream",
     "text": [
      "shape: (2, 3)\n",
      "size: 6\n",
      "Dtype: int64\n",
      "Dimension: 2\n"
     ]
    }
   ],
   "source": [
    "arr = np.array([[1, 2, 3],\n",
    "                [4, 5, 6]])\n",
    "print(f\"shape: {arr.shape}\")\n",
    "print(f\"size: {arr.size}\")\n",
    "print(f\"Dtype: {arr.dtype}\")\n",
    "print(f\"Dimension: {arr.ndim}\")"
   ]
  },
  {
   "cell_type": "markdown",
   "id": "a9aa74d8",
   "metadata": {},
   "source": [
    "### Array Reshaping"
   ]
  },
  {
   "cell_type": "code",
   "execution_count": 8,
   "id": "342559eb",
   "metadata": {},
   "outputs": [
    {
     "name": "stdout",
     "output_type": "stream",
     "text": [
      "Orignal Array:\n",
      " [ 0  1  2  3  4  5  6  7  8  9 10 11]\n",
      "Reshape Array:\n",
      " [[ 0  1  2  3]\n",
      " [ 4  5  6  7]\n",
      " [ 8  9 10 11]]\n",
      "Flattened Array:\n",
      " [ 0  1  2  3  4  5  6  7  8  9 10 11]\n",
      "Ravelled Array:\n",
      " [ 0  1  2  3  4  5  6  7  8  9 10 11]\n",
      "Transposed Array:\n",
      " [[ 0  4  8]\n",
      " [ 1  5  9]\n",
      " [ 2  6 10]\n",
      " [ 3  7 11]]\n"
     ]
    }
   ],
   "source": [
    "arr = np.arange(12)\n",
    "print(f\"Orignal Array:\\n {arr}\")\n",
    "\n",
    "reshaped = arr.reshape((3, 4))\n",
    "print(f\"Reshape Array:\\n {reshaped}\")\n",
    "\n",
    "flattened = reshaped.flatten()\n",
    "print(f\"Flattened Array:\\n {flattened}\")\n",
    "\n",
    "# revel (return view, insted of copy)\n",
    "ravelled = reshaped.ravel()\n",
    "print(f\"Ravelled Array:\\n {ravelled}\")\n",
    "\n",
    "# Transpose\n",
    "transpose = reshaped.T\n",
    "print(f\"Transposed Array:\\n {transpose}\")\n",
    "\n"
   ]
  }
 ],
 "metadata": {
  "kernelspec": {
   "display_name": ".venv",
   "language": "python",
   "name": "python3"
  },
  "language_info": {
   "codemirror_mode": {
    "name": "ipython",
    "version": 3
   },
   "file_extension": ".py",
   "mimetype": "text/x-python",
   "name": "python",
   "nbconvert_exporter": "python",
   "pygments_lexer": "ipython3",
   "version": "3.13.7"
  }
 },
 "nbformat": 4,
 "nbformat_minor": 5
}
