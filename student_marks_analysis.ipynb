{
 "cells": [
  {
   "cell_type": "code",
   "execution_count": null,
   "id": "e83c5f17",
   "metadata": {},
   "outputs": [
    {
     "name": "stdout",
     "output_type": "stream",
     "text": [
      "[[ 1. 78. 69. 84. 75. 92.]\n",
      " [ 2. 85. 77. 89. 83. 95.]\n",
      " [ 3. 62. 58. 70. 65. 60.]\n",
      " [ 4. 90. 88. 94. 91. 96.]\n",
      " [ 5. 55. 60. 57. 63. 52.]\n",
      " [ 6. 80. 72. 78. 74. 85.]\n",
      " [ 7. 68. 65. 60. 70. 72.]\n",
      " [ 8. 88. 82. 90. 86. 91.]\n",
      " [ 9. 73. 70. 68. 72. 75.]\n",
      " [10. 95. 93. 97. 94. 98.]]\n"
     ]
    }
   ],
   "source": [
    "import numpy as np\n",
    "\n",
    "# Load Data file in NumPy\n",
    "\n",
    "data = np.loadtxt(\"Data/student_marks.csv\", delimiter=\",\", skiprows=1)\n",
    "print(data)"
   ]
  },
  {
   "cell_type": "code",
   "execution_count": null,
   "id": "92210e86",
   "metadata": {},
   "outputs": [
    {
     "name": "stdout",
     "output_type": "stream",
     "text": [
      "Data shape : (10, 6)\n"
     ]
    }
   ],
   "source": [
    "# shape of given data\n",
    "\n",
    "print(f\"Data shape : {data.shape}\")"
   ]
  },
  {
   "cell_type": "code",
   "execution_count": 5,
   "id": "07aab247",
   "metadata": {},
   "outputs": [
    {
     "name": "stdout",
     "output_type": "stream",
     "text": [
      "Computer science marks : [92. 95. 60. 96. 52. 85. 72. 91. 75. 98.]\n"
     ]
    }
   ],
   "source": [
    "# Extract Computer Science Column\n",
    "\n",
    "computer_sci = data[ : , 5]\n",
    "print(f\"Computer science marks : {computer_sci}\")"
   ]
  },
  {
   "cell_type": "code",
   "execution_count": null,
   "id": "51af712b",
   "metadata": {},
   "outputs": [
    {
     "name": "stdout",
     "output_type": "stream",
     "text": [
      "Avgerage of each student : [79.6 85.8 63.  91.8 57.4 77.8 67.  87.4 71.6 95.4]\n"
     ]
    }
   ],
   "source": [
    "# Avg of each student\n",
    "\n",
    "avg = np.mean(data[ : , 1 : ], axis=1)\n",
    "print(f\"Avgerage of each student : {avg}\")"
   ]
  },
  {
   "cell_type": "code",
   "execution_count": 7,
   "id": "0802cbaf",
   "metadata": {},
   "outputs": [
    {
     "name": "stdout",
     "output_type": "stream",
     "text": [
      "Average of each subject : \n",
      " [77.4 73.4 78.7 77.3 81.6]\n"
     ]
    }
   ],
   "source": [
    "# Avgerage of each subject \n",
    "\n",
    "avg_sub = np.mean(data[ : , 1 : ], axis=0)\n",
    "print(F\"Average of each subject : \\n {avg_sub}\")"
   ]
  },
  {
   "cell_type": "code",
   "execution_count": 8,
   "id": "ebae5313",
   "metadata": {},
   "outputs": [
    {
     "name": "stdout",
     "output_type": "stream",
     "text": [
      "Maths marks : [78. 85. 62. 90. 55. 80. 68. 88. 73. 95.]\n"
     ]
    }
   ],
   "source": [
    "# Extract column of maths\n",
    "\n",
    "maths = data[ : , 1]\n",
    "print(f\"Maths marks : {maths}\")\n"
   ]
  },
  {
   "cell_type": "code",
   "execution_count": 10,
   "id": "976f96a9",
   "metadata": {},
   "outputs": [
    {
     "name": "stdout",
     "output_type": "stream",
     "text": [
      "Maximum marks in physics : 93.0\n"
     ]
    }
   ],
   "source": [
    "# Get Max marks in physics \n",
    "\n",
    "max_phy = np.max(data[ : , 2])\n",
    "print(f\"Maximum marks in physics : {max_phy}\")\n"
   ]
  },
  {
   "cell_type": "code",
   "execution_count": 11,
   "id": "78788e7c",
   "metadata": {},
   "outputs": [
    {
     "name": "stdout",
     "output_type": "stream",
     "text": [
      "Standard deviation of marks : 12.8521437900453\n"
     ]
    }
   ],
   "source": [
    "# standard deviation of marks \n",
    "\n",
    "std_marks = np.std(data[ : , 1 : ]) \n",
    "print(f\"Standard deviation of marks : {std_marks}\")"
   ]
  },
  {
   "cell_type": "code",
   "execution_count": 12,
   "id": "b42d7d17",
   "metadata": {},
   "outputs": [
    {
     "name": "stdout",
     "output_type": "stream",
     "text": [
      "Sorted english column : [57. 60. 68. 70. 78. 84. 89. 90. 94. 97.]\n"
     ]
    }
   ],
   "source": [
    "# Sort english column \n",
    "\n",
    "sorted_eng_col = np.sort(data[ : , 3])\n",
    "print(f\"Sorted english column : {sorted_eng_col}\")"
   ]
  }
 ],
 "metadata": {
  "kernelspec": {
   "display_name": ".venv",
   "language": "python",
   "name": "python3"
  },
  "language_info": {
   "codemirror_mode": {
    "name": "ipython",
    "version": 3
   },
   "file_extension": ".py",
   "mimetype": "text/x-python",
   "name": "python",
   "nbconvert_exporter": "python",
   "pygments_lexer": "ipython3",
   "version": "3.13.7"
  }
 },
 "nbformat": 4,
 "nbformat_minor": 5
}
