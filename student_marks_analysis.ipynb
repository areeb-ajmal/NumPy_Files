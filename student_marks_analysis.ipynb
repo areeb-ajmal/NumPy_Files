{
 "cells": [
  {
   "cell_type": "code",
   "execution_count": 2,
   "id": "e83c5f17",
   "metadata": {},
   "outputs": [
    {
     "name": "stdout",
     "output_type": "stream",
     "text": [
      "[[ 1. 78. 69. 84. 75. 92.]\n",
      " [ 2. 85. 77. 89. 83. 95.]\n",
      " [ 3. 62. 58. 70. 65. 60.]\n",
      " [ 4. 90. 88. 94. 91. 96.]\n",
      " [ 5. 55. 60. 57. 63. 52.]\n",
      " [ 6. 80. 72. 78. 74. 85.]\n",
      " [ 7. 68. 65. 60. 70. 72.]\n",
      " [ 8. 88. 82. 90. 86. 91.]\n",
      " [ 9. 73. 70. 68. 72. 75.]\n",
      " [10. 95. 93. 97. 94. 98.]]\n"
     ]
    }
   ],
   "source": [
    "import numpy as np\n",
    "\n",
    "# Load Data file in NumPy\n",
    "\n",
    "data = np.loadtxt(\"Data/student_marks.csv\", delimiter=\",\", skiprows=1)\n",
    "print(data)"
   ]
  },
  {
   "cell_type": "code",
   "execution_count": 3,
   "id": "92210e86",
   "metadata": {},
   "outputs": [
    {
     "name": "stdout",
     "output_type": "stream",
     "text": [
      "Data shape : (10, 6)\n"
     ]
    }
   ],
   "source": [
    "# shape of given data\n",
    "\n",
    "print(f\"Data shape : {data.shape}\")"
   ]
  },
  {
   "cell_type": "code",
   "execution_count": 4,
   "id": "07aab247",
   "metadata": {},
   "outputs": [
    {
     "name": "stdout",
     "output_type": "stream",
     "text": [
      "Computer science marks : [92. 95. 60. 96. 52. 85. 72. 91. 75. 98.]\n"
     ]
    }
   ],
   "source": [
    "# Extract Computer Science Column\n",
    "\n",
    "computer_sci = data[ : , 5]\n",
    "print(f\"Computer science marks : {computer_sci}\")"
   ]
  },
  {
   "cell_type": "code",
   "execution_count": 5,
   "id": "51af712b",
   "metadata": {},
   "outputs": [
    {
     "name": "stdout",
     "output_type": "stream",
     "text": [
      "Avgerage of each student : [79.6 85.8 63.  91.8 57.4 77.8 67.  87.4 71.6 95.4]\n"
     ]
    }
   ],
   "source": [
    "# Avg of each student\n",
    "\n",
    "avg = np.mean(data[ : , 1 : ], axis=1)\n",
    "print(f\"Avgerage of each student : {avg}\")"
   ]
  },
  {
   "cell_type": "code",
   "execution_count": 6,
   "id": "0802cbaf",
   "metadata": {},
   "outputs": [
    {
     "name": "stdout",
     "output_type": "stream",
     "text": [
      "Average of each subject : \n",
      " [77.4 73.4 78.7 77.3 81.6]\n"
     ]
    }
   ],
   "source": [
    "# Avgerage of each subject \n",
    "\n",
    "avg_sub = np.mean(data[ : , 1 : ], axis=0)\n",
    "print(F\"Average of each subject : \\n {avg_sub}\")"
   ]
  },
  {
   "cell_type": "code",
   "execution_count": 7,
   "id": "ebae5313",
   "metadata": {},
   "outputs": [
    {
     "name": "stdout",
     "output_type": "stream",
     "text": [
      "Maths marks : [78. 85. 62. 90. 55. 80. 68. 88. 73. 95.]\n"
     ]
    }
   ],
   "source": [
    "# Extract column of maths\n",
    "\n",
    "maths = data[ : , 1]\n",
    "print(f\"Maths marks : {maths}\")\n"
   ]
  },
  {
   "cell_type": "code",
   "execution_count": 8,
   "id": "976f96a9",
   "metadata": {},
   "outputs": [
    {
     "name": "stdout",
     "output_type": "stream",
     "text": [
      "Maximum marks in physics : 93.0\n"
     ]
    }
   ],
   "source": [
    "# Get Max marks in physics \n",
    "\n",
    "max_phy = np.max(data[ : , 2])\n",
    "print(f\"Maximum marks in physics : {max_phy}\")\n"
   ]
  },
  {
   "cell_type": "code",
   "execution_count": 9,
   "id": "78788e7c",
   "metadata": {},
   "outputs": [
    {
     "name": "stdout",
     "output_type": "stream",
     "text": [
      "Standard deviation of marks : 12.8521437900453\n"
     ]
    }
   ],
   "source": [
    "# standard deviation of marks \n",
    "\n",
    "std_marks = np.std(data[ : , 1 : ]) \n",
    "print(f\"Standard deviation of marks : {std_marks}\")"
   ]
  },
  {
   "cell_type": "code",
   "execution_count": 10,
   "id": "b42d7d17",
   "metadata": {},
   "outputs": [
    {
     "name": "stdout",
     "output_type": "stream",
     "text": [
      "Sorted english column : [57. 60. 68. 70. 78. 84. 89. 90. 94. 97.]\n"
     ]
    }
   ],
   "source": [
    "# Sort english column \n",
    "\n",
    "sorted_eng_col = np.sort(data[ : , 3])\n",
    "print(f\"Sorted english column : {sorted_eng_col}\")"
   ]
  },
  {
   "cell_type": "code",
   "execution_count": 11,
   "id": "bbb801c3",
   "metadata": {},
   "outputs": [
    {
     "name": "stdout",
     "output_type": "stream",
     "text": [
      "Dimension of data: \n",
      " 2\n"
     ]
    }
   ],
   "source": [
    "# Dimension of Given data\n",
    "\n",
    "print(f\"Dimension of data: \\n {data.ndim}\")"
   ]
  },
  {
   "cell_type": "code",
   "execution_count": 12,
   "id": "d611ce15",
   "metadata": {},
   "outputs": [
    {
     "name": "stdout",
     "output_type": "stream",
     "text": [
      "Flattened data: \n",
      "  [ 1. 78. 69. 84. 75. 92.  2. 85. 77. 89. 83. 95.  3. 62. 58. 70. 65. 60.\n",
      "  4. 90. 88. 94. 91. 96.  5. 55. 60. 57. 63. 52.  6. 80. 72. 78. 74. 85.\n",
      "  7. 68. 65. 60. 70. 72.  8. 88. 82. 90. 86. 91.  9. 73. 70. 68. 72. 75.\n",
      " 10. 95. 93. 97. 94. 98.]\n"
     ]
    }
   ],
   "source": [
    "# flattened data\n",
    "\n",
    "flattened_data = data.flatten()\n",
    "print(f\"Flattened data: \\n  {flattened_data}\")"
   ]
  },
  {
   "cell_type": "code",
   "execution_count": 13,
   "id": "c158439f",
   "metadata": {},
   "outputs": [
    {
     "name": "stdout",
     "output_type": "stream",
     "text": [
      "Transposed data : \n",
      " [[ 1.  2.  3.  4.  5.  6.  7.  8.  9. 10.]\n",
      " [78. 85. 62. 90. 55. 80. 68. 88. 73. 95.]\n",
      " [69. 77. 58. 88. 60. 72. 65. 82. 70. 93.]\n",
      " [84. 89. 70. 94. 57. 78. 60. 90. 68. 97.]\n",
      " [75. 83. 65. 91. 63. 74. 70. 86. 72. 94.]\n",
      " [92. 95. 60. 96. 52. 85. 72. 91. 75. 98.]]\n"
     ]
    }
   ],
   "source": [
    "# Transposing data \n",
    "\n",
    "transposed_data = data.transpose()\n",
    "print(f\"Transposed data : \\n {transposed_data}\")"
   ]
  },
  {
   "cell_type": "code",
   "execution_count": 14,
   "id": "0c04715f",
   "metadata": {},
   "outputs": [
    {
     "name": "stdout",
     "output_type": "stream",
     "text": [
      "Data without 'id' column : \n",
      " [[85. 77. 89. 83. 95.]\n",
      " [62. 58. 70. 65. 60.]\n",
      " [90. 88. 94. 91. 96.]\n",
      " [55. 60. 57. 63. 52.]\n",
      " [80. 72. 78. 74. 85.]\n",
      " [68. 65. 60. 70. 72.]\n",
      " [88. 82. 90. 86. 91.]\n",
      " [73. 70. 68. 72. 75.]\n",
      " [95. 93. 97. 94. 98.]]\n"
     ]
    }
   ],
   "source": [
    "# Slicing\n",
    "\n",
    "sliced_data = data[1 : , 1 : ] # ROWS(1 : END), COLUMNS(1 : END)\n",
    "print(f\"Data without 'id' column : \\n {sliced_data}\")\n",
    "\n"
   ]
  },
  {
   "cell_type": "code",
   "execution_count": 15,
   "id": "6f5673ef",
   "metadata": {},
   "outputs": [
    {
     "name": "stdout",
     "output_type": "stream",
     "text": [
      "Slicing with steps : \n",
      " [[85. 89. 95.]\n",
      " [90. 94. 96.]\n",
      " [80. 78. 85.]\n",
      " [88. 90. 91.]\n",
      " [95. 97. 98.]]\n"
     ]
    }
   ],
   "source": [
    "# slicing with steps\n",
    "\n",
    "step_slicing = data[1 : : 2, 1 : : 2] #(ROW : END : STEPS), (COLUMN : END : STEPS)\n",
    "print(f\"Slicing with steps : \\n { step_slicing}\")\n"
   ]
  },
  {
   "cell_type": "code",
   "execution_count": 16,
   "id": "6ced73f0",
   "metadata": {},
   "outputs": [
    {
     "name": "stdout",
     "output_type": "stream",
     "text": [
      "Negative indexing in 2d array : \n",
      " [[69. 84. 75. 92.]\n",
      " [77. 89. 83. 95.]\n",
      " [58. 70. 65. 60.]\n",
      " [88. 94. 91. 96.]\n",
      " [60. 57. 63. 52.]\n",
      " [72. 78. 74. 85.]\n",
      " [65. 60. 70. 72.]\n",
      " [82. 90. 86. 91.]\n",
      " [70. 68. 72. 75.]\n",
      " [93. 97. 94. 98.]]\n"
     ]
    }
   ],
   "source": [
    "# Negative indexing \n",
    "\n",
    "neg_idx = data[ : , -4 : ] #(ROW ' : ') (COLUMN '-4 : ')\n",
    "print(f\"Negative indexing in 2d array : \\n {neg_idx}\")"
   ]
  },
  {
   "cell_type": "code",
   "execution_count": 22,
   "id": "3ec93bad",
   "metadata": {},
   "outputs": [
    {
     "name": "stdout",
     "output_type": "stream",
     "text": [
      "Sorted data COLUMN wise : \n",
      " [[ 1. 55. 58. 57. 63. 52.]\n",
      " [ 2. 62. 60. 60. 65. 60.]\n",
      " [ 3. 68. 65. 68. 70. 72.]\n",
      " [ 4. 73. 69. 70. 72. 75.]\n",
      " [ 5. 78. 70. 78. 74. 85.]\n",
      " [ 6. 80. 72. 84. 75. 91.]\n",
      " [ 7. 85. 77. 89. 83. 92.]\n",
      " [ 8. 88. 82. 90. 86. 95.]\n",
      " [ 9. 90. 88. 94. 91. 96.]\n",
      " [10. 95. 93. 97. 94. 98.]]\n",
      "Sotred data ROW wise : \n",
      " [[ 1. 69. 75. 78. 84. 92.]\n",
      " [ 2. 77. 83. 85. 89. 95.]\n",
      " [ 3. 58. 60. 62. 65. 70.]\n",
      " [ 4. 88. 90. 91. 94. 96.]\n",
      " [ 5. 52. 55. 57. 60. 63.]\n",
      " [ 6. 72. 74. 78. 80. 85.]\n",
      " [ 7. 60. 65. 68. 70. 72.]\n",
      " [ 8. 82. 86. 88. 90. 91.]\n",
      " [ 9. 68. 70. 72. 73. 75.]\n",
      " [10. 93. 94. 95. 97. 98.]]\n"
     ]
    }
   ],
   "source": [
    "# Data sorted (Column wise)\n",
    "\n",
    "sorted_data_column_wise = np.sort(data, axis=0)\n",
    "print(f\"Sorted data COLUMN wise : \\n {sorted_data_column_wise}\")\n",
    "\n",
    "# Data sorted (Row wise)\n",
    "\n",
    "sorted_data_row_wise = np.sort(data)\n",
    "print(f\"Sotred data ROW wise : \\n {sorted_data_row_wise}\")"
   ]
  },
  {
   "cell_type": "markdown",
   "id": "03cb8e9a",
   "metadata": {},
   "source": [
    "### Filtering Data"
   ]
  },
  {
   "cell_type": "code",
   "execution_count": 26,
   "id": "5352b9ba",
   "metadata": {},
   "outputs": [
    {
     "name": "stdout",
     "output_type": "stream",
     "text": [
      "Even numbers in Given data : \n",
      " [78. 84. 92.  2. 62. 58. 70. 60.  4. 90. 88. 94. 96. 60. 52.  6. 80. 72.\n",
      " 78. 74. 68. 60. 70. 72.  8. 88. 82. 90. 86. 70. 68. 72. 10. 94. 98.]\n",
      "Odd numbers in Given data : \n",
      " [ 1. 69. 75. 85. 77. 89. 83. 95.  3. 65. 91.  5. 55. 57. 63. 85.  7. 65.\n",
      " 91.  9. 73. 75. 95. 93. 97.]\n",
      "Marks greater than 90 : \n",
      " [92. 95. 94. 91. 96. 91. 95. 93. 97. 94. 98.]\n"
     ]
    }
   ],
   "source": [
    "even_numbers = data[data % 2 == 0]\n",
    "print(f\"Even numbers in Given data : \\n {even_numbers}\")\n",
    "\n",
    "odd_numbers = data[data % 2 != 0]\n",
    "print(f\"Odd numbers in Given data : \\n {odd_numbers}\")\n",
    "\n",
    "# Filter with mask\n",
    "\n",
    "mask = data > 90\n",
    "print(f\"Marks greater than 90 : \\n {data[mask]}\")"
   ]
  },
  {
   "cell_type": "code",
   "execution_count": 33,
   "id": "ad3ff3f7",
   "metadata": {},
   "outputs": [
    {
     "name": "stdout",
     "output_type": "stream",
     "text": [
      "Numbers of given indexes : \n",
      " [[ 1. 78. 69. 84. 75. 92.]\n",
      " [ 5. 55. 60. 57. 63. 52.]\n",
      " [ 6. 80. 72. 78. 74. 85.]\n",
      " [10. 95. 93. 97. 94. 98.]]\n",
      "Marks greater than 80 : \n",
      " [84. 92. 85. 89. 83. 95. 90. 88. 94. 91. 96. 85. 88. 82. 90. 86. 91. 95.\n",
      " 93. 97. 94. 98.]\n",
      "Data with 80 multiplied by 2 : \n",
      " [[  1.  78.  69. 168.  75. 184.]\n",
      " [  2. 170.  77. 178. 166. 190.]\n",
      " [  3.  62.  58.  70.  65.  60.]\n",
      " [  4. 180. 176. 188. 182. 192.]\n",
      " [  5.  55.  60.  57.  63.  52.]\n",
      " [  6.  80.  72.  78.  74. 170.]\n",
      " [  7.  68.  65.  60.  70.  72.]\n",
      " [  8. 176. 164. 180. 172. 182.]\n",
      " [  9.  73.  70.  68.  72.  75.]\n",
      " [ 10. 190. 186. 194. 188. 196.]]\n"
     ]
    }
   ],
   "source": [
    "# Fancy indexing \n",
    "\n",
    "indexes = [0, 4, 5, 9]\n",
    "print(f\"Numbers of given indexes : \\n {data[indexes]}\")\n",
    "\n",
    "# using where() in NumPy\n",
    "\n",
    "num = np.where(data > 80)\n",
    "print(f\"Marks greater than 80 : \\n {data[num]}\")\n",
    "\n",
    "# conditions in where()\n",
    "\n",
    "num_condition = np.where(data > 80 , data * 2, data)\n",
    "print(f\"Data with 80 multiplied by 2 : \\n {num_condition}\")"
   ]
  },
  {
   "cell_type": "code",
   "execution_count": 51,
   "id": "ff6335a8",
   "metadata": {},
   "outputs": [
    {
     "name": "stdout",
     "output_type": "stream",
     "text": [
      "Data1 : \n",
      "[[ 1. 78. 85.]\n",
      " [ 2. 88. 90.]\n",
      " [ 3. 92. 87.]\n",
      " [ 4. 76. 80.]]\n"
     ]
    }
   ],
   "source": [
    "data1 = np.loadtxt(\"Data2/Data1.csv\", delimiter=\",\",  skiprows=1)\n",
    "print(f\"Data1 : \\n{data1}\")"
   ]
  },
  {
   "cell_type": "code",
   "execution_count": 52,
   "id": "495e19da",
   "metadata": {},
   "outputs": [
    {
     "name": "stdout",
     "output_type": "stream",
     "text": [
      "Data2 : \n",
      "[[ 5. 81. 79.]\n",
      " [ 6. 89. 91.]\n",
      " [ 7. 84. 88.]\n",
      " [ 8. 90. 86.]]\n"
     ]
    }
   ],
   "source": [
    "data2 = np.loadtxt(\"Data2/Data2.csv\", delimiter=\",\", skiprows=1)\n",
    "print(f\"Data2 : \\n{data2}\")"
   ]
  },
  {
   "cell_type": "code",
   "execution_count": 47,
   "id": "8ee5ca7c",
   "metadata": {},
   "outputs": [
    {
     "name": "stdout",
     "output_type": "stream",
     "text": [
      "Concatenated data : \n",
      " [  6. 159. 164.   8. 177. 181.  10. 176. 175.  12. 166. 166.]\n"
     ]
    }
   ],
   "source": [
    "# Concatenating two different data\n",
    "\n",
    "data_concat = np.concatenate(data1 + data2)\n",
    "print(f\"Concatenated data : \\n {data_concat}\")"
   ]
  },
  {
   "cell_type": "code",
   "execution_count": 62,
   "id": "d8c2e476",
   "metadata": {},
   "outputs": [
    {
     "name": "stdout",
     "output_type": "stream",
     "text": [
      "Updated data1 : \n",
      " [[ 1. 78. 85.]\n",
      " [ 2. 88. 90.]\n",
      " [ 3. 92. 87.]\n",
      " [ 4. 76. 80.]\n",
      " [ 5. 99. 99.]]\n",
      "Updating data2 : \n",
      " [[ 5. 81. 79.  9.]\n",
      " [ 6. 89. 91. 10.]\n",
      " [ 7. 84. 88. 11.]\n",
      " [ 8. 90. 86. 12.]]\n"
     ]
    }
   ],
   "source": [
    "# Adding a new row to data1\n",
    "\n",
    "new_row = np.array([5., 99., 99.])\n",
    "\n",
    "new_data1 = np.vstack((data1, new_row))\n",
    "print(f\"Updated data1 : \\n {new_data1}\")\n",
    "\n",
    "# Adding new column to data2\n",
    "\n",
    "new_column = np.array([[9.], [10.], [11.], [12.]])\n",
    "new_data2 = np.hstack((data2, new_column))\n",
    "print(f\"Updating data2 : \\n {new_data2}\")"
   ]
  },
  {
   "cell_type": "code",
   "execution_count": 69,
   "id": "1725500f",
   "metadata": {},
   "outputs": [
    {
     "name": "stdout",
     "output_type": "stream",
     "text": [
      "[[ 1. 78. 85.]\n",
      " [ 2. 88. 90.]\n",
      " [ 3. 92. 87.]\n",
      " [ 4. 76. 80.]]\n",
      "Deleted data : \n",
      " [78. 85.  2. 88. 90.  3. 92. 87.  4. 76. 80.]\n"
     ]
    }
   ],
   "source": [
    "print(data1)\n",
    "deleted_data = np.delete(data1,0)\n",
    "print(f\"Deleted data : \\n {deleted_data}\")"
   ]
  }
 ],
 "metadata": {
  "kernelspec": {
   "display_name": ".venv",
   "language": "python",
   "name": "python3"
  },
  "language_info": {
   "codemirror_mode": {
    "name": "ipython",
    "version": 3
   },
   "file_extension": ".py",
   "mimetype": "text/x-python",
   "name": "python",
   "nbconvert_exporter": "python",
   "pygments_lexer": "ipython3",
   "version": "3.13.7"
  }
 },
 "nbformat": 4,
 "nbformat_minor": 5
}
